{
 "cells": [
  {
   "cell_type": "markdown",
   "id": "76a296ba",
   "metadata": {},
   "source": [
    "# Import Libraries"
   ]
  },
  {
   "cell_type": "code",
   "execution_count": 1,
   "id": "fab7fd88",
   "metadata": {},
   "outputs": [],
   "source": [
    "import pandas as pd\n",
    "import numpy as np\n",
    "import matplotlib.pyplot as plt\n",
    "import seaborn as sns"
   ]
  },
  {
   "cell_type": "markdown",
   "id": "cedba68b",
   "metadata": {},
   "source": [
    "# Load Data"
   ]
  },
  {
   "cell_type": "code",
   "execution_count": 2,
   "id": "a586d61b",
   "metadata": {},
   "outputs": [],
   "source": [
    "dataset = pd.read_csv(\"types_statistic_sum.csv\")"
   ]
  },
  {
   "cell_type": "markdown",
   "id": "99177c8b",
   "metadata": {},
   "source": [
    "# Visualization"
   ]
  },
  {
   "cell_type": "code",
   "execution_count": 3,
   "id": "c2d6d778",
   "metadata": {},
   "outputs": [
    {
     "data": {
      "text/html": [
       "<div>\n",
       "<style scoped>\n",
       "    .dataframe tbody tr th:only-of-type {\n",
       "        vertical-align: middle;\n",
       "    }\n",
       "\n",
       "    .dataframe tbody tr th {\n",
       "        vertical-align: top;\n",
       "    }\n",
       "\n",
       "    .dataframe thead th {\n",
       "        text-align: right;\n",
       "    }\n",
       "</style>\n",
       "<table border=\"1\" class=\"dataframe\">\n",
       "  <thead>\n",
       "    <tr style=\"text-align: right;\">\n",
       "      <th></th>\n",
       "      <th>Graph Name</th>\n",
       "      <th>try-catch existence</th>\n",
       "      <th>variables modification state</th>\n",
       "      <th>nesting structure</th>\n",
       "      <th>if-else existence</th>\n",
       "      <th>code with comment</th>\n",
       "      <th>sequence</th>\n",
       "      <th>loop</th>\n",
       "      <th>model prediction</th>\n",
       "    </tr>\n",
       "  </thead>\n",
       "  <tbody>\n",
       "    <tr>\n",
       "      <th>0</th>\n",
       "      <td>Scalabrino15.java</td>\n",
       "      <td>1</td>\n",
       "      <td>0</td>\n",
       "      <td>1</td>\n",
       "      <td>1</td>\n",
       "      <td>0</td>\n",
       "      <td>0</td>\n",
       "      <td>1</td>\n",
       "      <td>unreadable</td>\n",
       "    </tr>\n",
       "    <tr>\n",
       "      <th>1</th>\n",
       "      <td>Scalabrino28.java</td>\n",
       "      <td>0</td>\n",
       "      <td>1</td>\n",
       "      <td>0</td>\n",
       "      <td>1</td>\n",
       "      <td>0</td>\n",
       "      <td>0</td>\n",
       "      <td>0</td>\n",
       "      <td>unreadable</td>\n",
       "    </tr>\n",
       "    <tr>\n",
       "      <th>2</th>\n",
       "      <td>Scalabrino34.java</td>\n",
       "      <td>0</td>\n",
       "      <td>1</td>\n",
       "      <td>1</td>\n",
       "      <td>1</td>\n",
       "      <td>0</td>\n",
       "      <td>0</td>\n",
       "      <td>1</td>\n",
       "      <td>unreadable</td>\n",
       "    </tr>\n",
       "    <tr>\n",
       "      <th>3</th>\n",
       "      <td>Scalabrino36.java</td>\n",
       "      <td>0</td>\n",
       "      <td>0</td>\n",
       "      <td>0</td>\n",
       "      <td>1</td>\n",
       "      <td>0</td>\n",
       "      <td>1</td>\n",
       "      <td>0</td>\n",
       "      <td>readable</td>\n",
       "    </tr>\n",
       "    <tr>\n",
       "      <th>4</th>\n",
       "      <td>Scalabrino43.java</td>\n",
       "      <td>0</td>\n",
       "      <td>0</td>\n",
       "      <td>1</td>\n",
       "      <td>1</td>\n",
       "      <td>0</td>\n",
       "      <td>0</td>\n",
       "      <td>0</td>\n",
       "      <td>unreadable</td>\n",
       "    </tr>\n",
       "    <tr>\n",
       "      <th>...</th>\n",
       "      <td>...</td>\n",
       "      <td>...</td>\n",
       "      <td>...</td>\n",
       "      <td>...</td>\n",
       "      <td>...</td>\n",
       "      <td>...</td>\n",
       "      <td>...</td>\n",
       "      <td>...</td>\n",
       "      <td>...</td>\n",
       "    </tr>\n",
       "    <tr>\n",
       "      <th>73</th>\n",
       "      <td>Scalabrino160.java</td>\n",
       "      <td>1</td>\n",
       "      <td>1</td>\n",
       "      <td>1</td>\n",
       "      <td>0</td>\n",
       "      <td>0</td>\n",
       "      <td>0</td>\n",
       "      <td>0</td>\n",
       "      <td>readable</td>\n",
       "    </tr>\n",
       "    <tr>\n",
       "      <th>74</th>\n",
       "      <td>Scalabrino164.java</td>\n",
       "      <td>1</td>\n",
       "      <td>0</td>\n",
       "      <td>1</td>\n",
       "      <td>1</td>\n",
       "      <td>1</td>\n",
       "      <td>0</td>\n",
       "      <td>0</td>\n",
       "      <td>readable</td>\n",
       "    </tr>\n",
       "    <tr>\n",
       "      <th>75</th>\n",
       "      <td>Scalabrino168.java</td>\n",
       "      <td>1</td>\n",
       "      <td>1</td>\n",
       "      <td>1</td>\n",
       "      <td>0</td>\n",
       "      <td>0</td>\n",
       "      <td>1</td>\n",
       "      <td>0</td>\n",
       "      <td>readable</td>\n",
       "    </tr>\n",
       "    <tr>\n",
       "      <th>76</th>\n",
       "      <td>Scalabrino169.java</td>\n",
       "      <td>0</td>\n",
       "      <td>1</td>\n",
       "      <td>1</td>\n",
       "      <td>1</td>\n",
       "      <td>0</td>\n",
       "      <td>0</td>\n",
       "      <td>0</td>\n",
       "      <td>readable</td>\n",
       "    </tr>\n",
       "    <tr>\n",
       "      <th>77</th>\n",
       "      <td>Scalabrino187.java</td>\n",
       "      <td>0</td>\n",
       "      <td>0</td>\n",
       "      <td>0</td>\n",
       "      <td>0</td>\n",
       "      <td>0</td>\n",
       "      <td>0</td>\n",
       "      <td>0</td>\n",
       "      <td>readable</td>\n",
       "    </tr>\n",
       "  </tbody>\n",
       "</table>\n",
       "<p>78 rows × 9 columns</p>\n",
       "</div>"
      ],
      "text/plain": [
       "            Graph Name  try-catch existence  variables modification state  \\\n",
       "0    Scalabrino15.java                    1                             0   \n",
       "1    Scalabrino28.java                    0                             1   \n",
       "2    Scalabrino34.java                    0                             1   \n",
       "3    Scalabrino36.java                    0                             0   \n",
       "4    Scalabrino43.java                    0                             0   \n",
       "..                 ...                  ...                           ...   \n",
       "73  Scalabrino160.java                    1                             1   \n",
       "74  Scalabrino164.java                    1                             0   \n",
       "75  Scalabrino168.java                    1                             1   \n",
       "76  Scalabrino169.java                    0                             1   \n",
       "77  Scalabrino187.java                    0                             0   \n",
       "\n",
       "    nesting structure  if-else existence  code with comment  sequence  loop  \\\n",
       "0                   1                  1                  0         0     1   \n",
       "1                   0                  1                  0         0     0   \n",
       "2                   1                  1                  0         0     1   \n",
       "3                   0                  1                  0         1     0   \n",
       "4                   1                  1                  0         0     0   \n",
       "..                ...                ...                ...       ...   ...   \n",
       "73                  1                  0                  0         0     0   \n",
       "74                  1                  1                  1         0     0   \n",
       "75                  1                  0                  0         1     0   \n",
       "76                  1                  1                  0         0     0   \n",
       "77                  0                  0                  0         0     0   \n",
       "\n",
       "   model prediction  \n",
       "0        unreadable  \n",
       "1        unreadable  \n",
       "2        unreadable  \n",
       "3          readable  \n",
       "4        unreadable  \n",
       "..              ...  \n",
       "73         readable  \n",
       "74         readable  \n",
       "75         readable  \n",
       "76         readable  \n",
       "77         readable  \n",
       "\n",
       "[78 rows x 9 columns]"
      ]
     },
     "execution_count": 3,
     "metadata": {},
     "output_type": "execute_result"
    }
   ],
   "source": [
    "dataset"
   ]
  },
  {
   "cell_type": "code",
   "execution_count": 4,
   "id": "69789f29",
   "metadata": {},
   "outputs": [],
   "source": [
    "# split data into readable and unreadable sets (according to model prediction)\n",
    "unreadable_set = dataset.loc[dataset[\"model prediction\"] == \"unreadable\"]\n",
    "readable_set = dataset.loc[dataset[\"model prediction\"] == \"readable\"]"
   ]
  },
  {
   "cell_type": "code",
   "execution_count": 5,
   "id": "e32247a3",
   "metadata": {},
   "outputs": [
    {
     "name": "stdout",
     "output_type": "stream",
     "text": [
      "<class 'pandas.core.frame.DataFrame'>\n",
      "Int64Index: 33 entries, 0 to 66\n",
      "Data columns (total 9 columns):\n",
      " #   Column                        Non-Null Count  Dtype \n",
      "---  ------                        --------------  ----- \n",
      " 0   Graph Name                    33 non-null     object\n",
      " 1   try-catch existence           33 non-null     int64 \n",
      " 2   variables modification state  33 non-null     int64 \n",
      " 3   nesting structure             33 non-null     int64 \n",
      " 4   if-else existence             33 non-null     int64 \n",
      " 5   code with comment             33 non-null     int64 \n",
      " 6   sequence                      33 non-null     int64 \n",
      " 7   loop                          33 non-null     int64 \n",
      " 8   model prediction              33 non-null     object\n",
      "dtypes: int64(7), object(2)\n",
      "memory usage: 2.6+ KB\n"
     ]
    }
   ],
   "source": [
    "unreadable_set.info()"
   ]
  },
  {
   "cell_type": "code",
   "execution_count": 6,
   "id": "b97f5bb1",
   "metadata": {},
   "outputs": [
    {
     "name": "stdout",
     "output_type": "stream",
     "text": [
      "<class 'pandas.core.frame.DataFrame'>\n",
      "Int64Index: 45 entries, 3 to 77\n",
      "Data columns (total 9 columns):\n",
      " #   Column                        Non-Null Count  Dtype \n",
      "---  ------                        --------------  ----- \n",
      " 0   Graph Name                    45 non-null     object\n",
      " 1   try-catch existence           45 non-null     int64 \n",
      " 2   variables modification state  45 non-null     int64 \n",
      " 3   nesting structure             45 non-null     int64 \n",
      " 4   if-else existence             45 non-null     int64 \n",
      " 5   code with comment             45 non-null     int64 \n",
      " 6   sequence                      45 non-null     int64 \n",
      " 7   loop                          45 non-null     int64 \n",
      " 8   model prediction              45 non-null     object\n",
      "dtypes: int64(7), object(2)\n",
      "memory usage: 3.5+ KB\n"
     ]
    }
   ],
   "source": [
    "readable_set.info()"
   ]
  },
  {
   "cell_type": "code",
   "execution_count": 7,
   "id": "c996bebf",
   "metadata": {},
   "outputs": [],
   "source": [
    "# count types in predicted unreadable set\n",
    "types = ['try-catch existence', 'variables modification state', 'nesting structure', \n",
    "        'if-else existence', 'code with comment', 'sequence', 'loop']\n",
    "types_count = ['T-C-E', 'V-M-S', 'N-S', 'I-E-E', 'C-C', 'S', 'L']\n",
    "readable_types_count = []\n",
    "unreadable_types_count = []\n",
    "\n",
    "# unreadable set count\n",
    "for type_name in types:\n",
    "    count_value = unreadable_set[type_name].value_counts().get(1, 0)\n",
    "    unreadable_types_count.append(count_value)\n",
    "    \n",
    "# readable set count\n",
    "for type_name in types:\n",
    "    count_value = readable_set[type_name].value_counts().get(1, 0)\n",
    "    readable_types_count.append(count_value)"
   ]
  },
  {
   "cell_type": "code",
   "execution_count": 8,
   "id": "31ecfa11",
   "metadata": {},
   "outputs": [
    {
     "data": {
      "text/plain": [
       "[12, 13, 18, 20, 21, 23, 4]"
      ]
     },
     "execution_count": 8,
     "metadata": {},
     "output_type": "execute_result"
    }
   ],
   "source": [
    "readable_types_count"
   ]
  },
  {
   "cell_type": "code",
   "execution_count": 9,
   "id": "ebf38230",
   "metadata": {},
   "outputs": [
    {
     "data": {
      "text/plain": [
       "[1, 13, 13, 18, 1, 12, 5]"
      ]
     },
     "execution_count": 9,
     "metadata": {},
     "output_type": "execute_result"
    }
   ],
   "source": [
    "unreadable_types_count"
   ]
  },
  {
   "cell_type": "code",
   "execution_count": 10,
   "id": "87f17cee",
   "metadata": {},
   "outputs": [
    {
     "data": {
      "text/plain": [
       "['try-catch existence',\n",
       " 'variables modification state',\n",
       " 'nesting structure',\n",
       " 'if-else existence',\n",
       " 'code with comment',\n",
       " 'sequence',\n",
       " 'loop']"
      ]
     },
     "execution_count": 10,
     "metadata": {},
     "output_type": "execute_result"
    }
   ],
   "source": [
    "types"
   ]
  },
  {
   "cell_type": "code",
   "execution_count": 11,
   "id": "335e45db",
   "metadata": {
    "scrolled": true
   },
   "outputs": [
    {
     "data": {
      "image/png": "[encoded data removed]",
      "text/plain": [
       "<Figure size 640x480 with 1 Axes>"
      ]
     },
     "metadata": {},
     "output_type": "display_data"
    }
   ],
   "source": [
    "bar_width = 0.35\n",
    "\n",
    "# 生成x轴的位置\n",
    "x = range(len(types_count))\n",
    "\n",
    "# 绘制柱状图，每个柱子包含两个类的数据\n",
    "plt.bar(x, readable_types_count, width=bar_width, label='Readable')\n",
    "plt.bar([p + bar_width for p in x], unreadable_types_count, width=bar_width, label='Unreadable')\n",
    "\n",
    "# 设置x轴标签\n",
    "plt.xlabel('Code Characteristic')\n",
    "# 设置y轴标签\n",
    "plt.ylabel('Count')\n",
    "# 设置x轴刻度标签\n",
    "plt.xticks([p + bar_width/2 for p in x], types_count)\n",
    "# 添加图例\n",
    "plt.legend()\n",
    "# 显示柱状图\n",
    "plt.show()"
   ]
  },
  {
   "cell_type": "code",
   "execution_count": 12,
   "id": "aa1bd7eb",
   "metadata": {},
   "outputs": [],
   "source": [
    "readable_types_count.sort(reverse=True) # sort"
   ]
  },
  {
   "cell_type": "code",
   "execution_count": 13,
   "id": "f57b14f9",
   "metadata": {},
   "outputs": [
    {
     "data": {
      "text/plain": [
       "[23, 21, 20, 18, 13, 12, 4]"
      ]
     },
     "execution_count": 13,
     "metadata": {},
     "output_type": "execute_result"
    }
   ],
   "source": [
    "readable_types_count"
   ]
  },
  {
   "cell_type": "code",
   "execution_count": 14,
   "id": "2c5d2291",
   "metadata": {},
   "outputs": [],
   "source": [
    "unreadable_types_count.sort(reverse=True) # sort"
   ]
  },
  {
   "cell_type": "code",
   "execution_count": 15,
   "id": "84a2fc0c",
   "metadata": {},
   "outputs": [
    {
     "data": {
      "text/plain": [
       "[18, 13, 13, 12, 5, 1, 1]"
      ]
     },
     "execution_count": 15,
     "metadata": {},
     "output_type": "execute_result"
    }
   ],
   "source": [
    "unreadable_types_count"
   ]
  },
  {
   "cell_type": "code",
   "execution_count": 16,
   "id": "c1bd4872",
   "metadata": {},
   "outputs": [],
   "source": [
    "readable_types = [\n",
    "    'S',\n",
    "    'C-C',\n",
    "    'I-E-E',\n",
    "    'N-S',\n",
    "    'V-M-S',\n",
    "    'T-C-E',\n",
    "    'L'\n",
    "]\n",
    "unreadable_types = [\n",
    "    'I-E-E',\n",
    "    'N-S',\n",
    "    'V-M-S',\n",
    "    'S',\n",
    "    'L',\n",
    "    'T-C-E',\n",
    "    'C-C'\n",
    "]"
   ]
  },
  {
   "cell_type": "code",
   "execution_count": 19,
   "id": "db05c10c",
   "metadata": {},
   "outputs": [
    {
     "data": {
      "image/png": "[encoded data removed]",
      "text/plain": [
       "<Figure size 640x480 with 1 Axes>"
      ]
     },
     "metadata": {},
     "output_type": "display_data"
    }
   ],
   "source": [
    "# draw readable bar chart\n",
    "bar_width = 0.35\n",
    "\n",
    "# 绘制柱状图，每个柱子包含两个类的数据\n",
    "plt.bar(readable_types, readable_types_count, width=bar_width, label='Readable')\n",
    "\n",
    "for i, v in enumerate(readable_types_count):\n",
    "    plt.text(i, v + 0.2, str(v), ha='center')\n",
    "# 设置x轴标签\n",
    "plt.xlabel('Code Characteristic')\n",
    "# 设置y轴标签\n",
    "plt.ylabel('Count')\n",
    "# 设置刻度\n",
    "plt.yticks([0, 4, 8, 12, 16, 20, 24])\n",
    "# 添加图例\n",
    "plt.legend()\n",
    "# 显示柱状图\n",
    "plt.show()"
   ]
  },
  {
   "cell_type": "code",
   "execution_count": 20,
   "id": "ac5628ac",
   "metadata": {},
   "outputs": [
    {
     "data": {
      "image/png": "[encoded data removed]",
      "text/plain": [
       "<Figure size 640x480 with 1 Axes>"
      ]
     },
     "metadata": {},
     "output_type": "display_data"
    }
   ],
   "source": [
    "# draw unreadable bar chart\n",
    "bar_width = 0.35\n",
    "\n",
    "# 绘制柱状图，每个柱子包含两个类的数据\n",
    "plt.bar(unreadable_types, unreadable_types_count, width=bar_width, label='Uneadable', color='#D95319')\n",
    "\n",
    "for i, v in enumerate(unreadable_types_count):\n",
    "    plt.text(i, v + 0.2, str(v), ha='center')\n",
    "# 设置x轴标签\n",
    "plt.xlabel('Code Characteristic')\n",
    "# 设置y轴标签\n",
    "plt.ylabel('Count')\n",
    "# 设置刻度\n",
    "plt.yticks([0, 3, 6, 9, 12, 15, 18])\n",
    "# 添加图例\n",
    "plt.legend()\n",
    "# 显示柱状图\n",
    "plt.show()"
   ]
  }
 ],
 "metadata": {
  "kernelspec": {
   "display_name": "Python 3 (ipykernel)",
   "language": "python",
   "name": "python3"
  },
  "language_info": {
   "codemirror_mode": {
    "name": "ipython",
    "version": 3
   },
   "file_extension": ".py",
   "mimetype": "text/x-python",
   "name": "python",
   "nbconvert_exporter": "python",
   "pygments_lexer": "ipython3",
   "version": "3.9.13"
  }
 },
 "nbformat": 4,
 "nbformat_minor": 5
}
